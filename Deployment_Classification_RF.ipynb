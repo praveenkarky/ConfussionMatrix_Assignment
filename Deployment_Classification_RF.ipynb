{
 "cells": [
  {
   "cell_type": "code",
   "execution_count": 4,
   "metadata": {},
   "outputs": [],
   "source": [
    "#Load the Sacved model\n",
    "import pickle\n",
    "loaded_model= pickle.load(open(\"Finalize_RF_Model.sav\",'rb'))"
   ]
  },
  {
   "cell_type": "code",
   "execution_count": 12,
   "metadata": {},
   "outputs": [
    {
     "name": "stdout",
     "output_type": "stream",
     "text": [
      "Enter the Age:34\n",
      "Enter the Salary:456783\n",
      "Enter the Gender Male=1 & Female=0 :0\n",
      "Output Of Future Predict for Reference [1]\n",
      "Purchased\n"
     ]
    }
   ],
   "source": [
    "age_input= int(input(\"Enter the Age:\"))\n",
    "Salary_input= int(input(\"Enter the Salary:\"))\n",
    "Gender_input= int(input(\"Enter the Gender Male=1 & Female=0 :\"))\n",
    "Future_Predict= loaded_model.predict([[age_input,Salary_input,Gender_input]])\n",
    "print(\"Output Of Future Predict for Reference\",Future_Predict)\n",
    "if Future_Predict==0:\n",
    "    print(\"Not Purchased\")\n",
    "else:\n",
    "    print(\"Purchased\")"
   ]
  },
  {
   "cell_type": "code",
   "execution_count": null,
   "metadata": {},
   "outputs": [],
   "source": []
  }
 ],
 "metadata": {
  "kernelspec": {
   "display_name": "Python 3",
   "language": "python",
   "name": "python3"
  },
  "language_info": {
   "codemirror_mode": {
    "name": "ipython",
    "version": 3
   },
   "file_extension": ".py",
   "mimetype": "text/x-python",
   "name": "python",
   "nbconvert_exporter": "python",
   "pygments_lexer": "ipython3",
   "version": "3.7.4"
  }
 },
 "nbformat": 4,
 "nbformat_minor": 2
}
